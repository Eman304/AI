{
  "nbformat": 4,
  "nbformat_minor": 0,
  "metadata": {
    "colab": {
      "provenance": [],
      "gpuType": "T4"
    },
    "kernelspec": {
      "name": "python3",
      "display_name": "Python 3"
    },
    "language_info": {
      "name": "python"
    },
    "accelerator": "GPU"
  },
  "cells": [
    {
      "cell_type": "code",
      "execution_count": 16,
      "metadata": {
        "colab": {
          "base_uri": "https://localhost:8080/"
        },
        "id": "24jtI48CGBFF",
        "outputId": "ace90914-2952-40a0-e5a1-4b2cd765b016"
      },
      "outputs": [
        {
          "output_type": "stream",
          "name": "stdout",
          "text": [
            "Requirement already satisfied: flask in /usr/local/lib/python3.12/dist-packages (3.1.2)\n",
            "Requirement already satisfied: flask-ngrok in /usr/local/lib/python3.12/dist-packages (0.0.25)\n",
            "Requirement already satisfied: blinker>=1.9.0 in /usr/local/lib/python3.12/dist-packages (from flask) (1.9.0)\n",
            "Requirement already satisfied: click>=8.1.3 in /usr/local/lib/python3.12/dist-packages (from flask) (8.2.1)\n",
            "Requirement already satisfied: itsdangerous>=2.2.0 in /usr/local/lib/python3.12/dist-packages (from flask) (2.2.0)\n",
            "Requirement already satisfied: jinja2>=3.1.2 in /usr/local/lib/python3.12/dist-packages (from flask) (3.1.6)\n",
            "Requirement already satisfied: markupsafe>=2.1.1 in /usr/local/lib/python3.12/dist-packages (from flask) (3.0.2)\n",
            "Requirement already satisfied: werkzeug>=3.1.0 in /usr/local/lib/python3.12/dist-packages (from flask) (3.1.3)\n",
            "Requirement already satisfied: requests in /usr/local/lib/python3.12/dist-packages (from flask-ngrok) (2.32.4)\n",
            "Requirement already satisfied: charset_normalizer<4,>=2 in /usr/local/lib/python3.12/dist-packages (from requests->flask-ngrok) (3.4.3)\n",
            "Requirement already satisfied: idna<4,>=2.5 in /usr/local/lib/python3.12/dist-packages (from requests->flask-ngrok) (3.10)\n",
            "Requirement already satisfied: urllib3<3,>=1.21.1 in /usr/local/lib/python3.12/dist-packages (from requests->flask-ngrok) (2.5.0)\n",
            "Requirement already satisfied: certifi>=2017.4.17 in /usr/local/lib/python3.12/dist-packages (from requests->flask-ngrok) (2025.8.3)\n"
          ]
        }
      ],
      "source": [
        "!pip install flask flask-ngrok\n",
        "\n",
        "from flask import Flask, request, jsonify\n",
        "from pyngrok import ngrok\n",
        "import json\n",
        "from difflib import SequenceMatcher\n"
      ]
    },
    {
      "cell_type": "code",
      "source": [
        "import json\n",
        "from difflib import SequenceMatcher\n",
        "\n",
        "# تحميل بيانات FAQ\n",
        "with open(\"faq_data.json\", \"r\", encoding=\"utf-8\") as f:\n",
        "    faq_data = json.load(f)\n",
        "\n",
        "def similarity(a, b):\n",
        "    return SequenceMatcher(None, a, b).ratio()\n",
        "\n",
        "def search_questions_sorted(user_input):\n",
        "    user_input = user_input.strip().lower()\n",
        "    matches = []\n",
        "    for item in faq_data:\n",
        "        question_ar = item[\"question_ar\"].lower()\n",
        "        question_en = item[\"question_en\"].lower()\n",
        "        sim_ar = similarity(user_input, question_ar)\n",
        "        sim_en = similarity(user_input, question_en)\n",
        "        max_sim = max(sim_ar, sim_en)\n",
        "        if user_input in question_ar or user_input in question_en:\n",
        "            matches.append((max_sim, item))\n",
        "    matches.sort(key=lambda x: x[0], reverse=True)\n",
        "    return [item for _, item in matches]\n",
        "\n",
        "# تجربة تفاعلية\n",
        "while True:\n",
        "    user_input = input(\"\\nاكتب سؤالك (أو 'exit' للخروج): \")\n",
        "    if user_input.lower() == \"exit\":\n",
        "        break\n",
        "    lang = input(\"اختر اللغة 'ar' للعربي أو 'en' للإنجليزي: \").strip().lower()\n",
        "    results = search_questions_sorted(user_input)\n",
        "\n",
        "    if results:\n",
        "        print(\"\\nنتائج البحث:\")\n",
        "        for item in results:\n",
        "            question = item[\"question_ar\"] if lang == \"ar\" else item[\"question_en\"]\n",
        "            answer = item[\"answer_ar\"] if lang == \"ar\" else item[\"answer_en\"]\n",
        "            print(f\"\\nسؤال: {question}\\nإجابة: {answer}\")\n",
        "    else:\n",
        "        msg_ar = \"عذرًا، لم أفهم سؤالك. حاول إعادة صياغته.\"\n",
        "        msg_en = \"Sorry, I didn't understand your question. Please try rephrasing it.\"\n",
        "        print(msg_ar if lang == \"ar\" else msg_en)\n"
      ],
      "metadata": {
        "colab": {
          "base_uri": "https://localhost:8080/"
        },
        "id": "k131vrXoGJ0L",
        "outputId": "648d080b-7497-49bb-ecdd-ee86e0ab3c54"
      },
      "execution_count": 17,
      "outputs": [
        {
          "name": "stdout",
          "output_type": "stream",
          "text": [
            "\n",
            "اكتب سؤالك (أو 'exit' للخروج): هل المنصة آمنة \n",
            "اختر اللغة 'ar' للعربي أو 'en' للإنجليزي: ar\n",
            "\n",
            "نتائج البحث:\n",
            "\n",
            "سؤال: هل المنصة آمنة للأطفال والمراهقين؟\n",
            "إجابة: نعم، توفر المنصة رقابة دقيقة من الأهل على ما يشاهده الأطفال وتحظر المحتوى غير المناسب.\n",
            "\n",
            "اكتب سؤالك (أو 'exit' للخروج): تطبيق على الهاتف\n",
            "اختر اللغة 'ar' للعربي أو 'en' للإنجليزي: ar\n",
            "\n",
            "نتائج البحث:\n",
            "\n",
            "سؤال: هل يوجد تطبيق على الهاتف أم فقط موقع ويب؟\n",
            "إجابة: يوجد كلاهما، تطبيق للهواتف الذكية وموقع ويب للوصول السهل إلى المحتوى.\n",
            "\n",
            "اكتب سؤالك (أو 'exit' للخروج): subscription\n",
            "اختر اللغة 'ar' للعربي أو 'en' للإنجليزي: en\n",
            "\n",
            "نتائج البحث:\n",
            "\n",
            "سؤال: Do I need a subscription to access all services?\n",
            "إجابة: There is a free version with limited services, and a subscription is required for additional features.\n",
            "\n",
            "اكتب سؤالك (أو 'exit' للخروج): exit\n"
          ]
        }
      ]
    },
    {
      "cell_type": "code",
      "source": [],
      "metadata": {
        "id": "DKzn6vbCLEZK"
      },
      "execution_count": null,
      "outputs": []
    }
  ]
}