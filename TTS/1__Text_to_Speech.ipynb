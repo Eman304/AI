{
  "cells": [
    {
      "cell_type": "markdown",
      "metadata": {
        "id": "pofrorzZQRG3"
      },
      "source": [
        "#**Import Lbraries**"
      ]
    },
    {
      "cell_type": "code",
      "execution_count": 1,
      "metadata": {
        "colab": {
          "base_uri": "https://localhost:8080/"
        },
        "id": "LuRrsCEhQPmP",
        "outputId": "9a1c984d-60a7-40ed-88c3-e83045f93d6e"
      },
      "outputs": [
        {
          "name": "stdout",
          "output_type": "stream",
          "text": [
            "Requirement already satisfied: gtts in c:\\users\\emam abd el monsef\\appdata\\local\\packages\\pythonsoftwarefoundation.python.3.11_qbz5n2kfra8p0\\localcache\\local-packages\\python311\\site-packages (2.5.4)\n",
            "Requirement already satisfied: requests<3,>=2.27 in c:\\users\\emam abd el monsef\\appdata\\local\\packages\\pythonsoftwarefoundation.python.3.11_qbz5n2kfra8p0\\localcache\\local-packages\\python311\\site-packages (from gtts) (2.32.3)\n",
            "Requirement already satisfied: click<8.2,>=7.1 in c:\\users\\emam abd el monsef\\appdata\\local\\packages\\pythonsoftwarefoundation.python.3.11_qbz5n2kfra8p0\\localcache\\local-packages\\python311\\site-packages (from gtts) (8.1.8)\n",
            "Requirement already satisfied: colorama in c:\\users\\emam abd el monsef\\appdata\\local\\packages\\pythonsoftwarefoundation.python.3.11_qbz5n2kfra8p0\\localcache\\local-packages\\python311\\site-packages (from click<8.2,>=7.1->gtts) (0.4.6)\n",
            "Requirement already satisfied: charset-normalizer<4,>=2 in c:\\users\\emam abd el monsef\\appdata\\local\\packages\\pythonsoftwarefoundation.python.3.11_qbz5n2kfra8p0\\localcache\\local-packages\\python311\\site-packages (from requests<3,>=2.27->gtts) (3.4.2)\n",
            "Requirement already satisfied: idna<4,>=2.5 in c:\\users\\emam abd el monsef\\appdata\\local\\packages\\pythonsoftwarefoundation.python.3.11_qbz5n2kfra8p0\\localcache\\local-packages\\python311\\site-packages (from requests<3,>=2.27->gtts) (3.10)\n",
            "Requirement already satisfied: urllib3<3,>=1.21.1 in c:\\users\\emam abd el monsef\\appdata\\local\\packages\\pythonsoftwarefoundation.python.3.11_qbz5n2kfra8p0\\localcache\\local-packages\\python311\\site-packages (from requests<3,>=2.27->gtts) (2.4.0)\n",
            "Requirement already satisfied: certifi>=2017.4.17 in c:\\users\\emam abd el monsef\\appdata\\local\\packages\\pythonsoftwarefoundation.python.3.11_qbz5n2kfra8p0\\localcache\\local-packages\\python311\\site-packages (from requests<3,>=2.27->gtts) (2025.4.26)\n"
          ]
        },
        {
          "name": "stderr",
          "output_type": "stream",
          "text": [
            "\n",
            "[notice] A new release of pip is available: 24.0 -> 25.2\n",
            "[notice] To update, run: C:\\Users\\EMAM ABD EL MONSEF\\AppData\\Local\\Microsoft\\WindowsApps\\PythonSoftwareFoundation.Python.3.11_qbz5n2kfra8p0\\python.exe -m pip install --upgrade pip\n"
          ]
        }
      ],
      "source": [
        "!pip install gtts\n",
        "\n",
        "import json\n",
        "from gtts import gTTS\n",
        "from IPython.display import Audio, display\n",
        "import os"
      ]
    },
    {
      "cell_type": "markdown",
      "metadata": {
        "id": "YaWWP_8gRJpd"
      },
      "source": [
        "#**Choose files**"
      ]
    },
    {
      "cell_type": "code",
      "execution_count": 2,
      "metadata": {
        "id": "wVryGj4NOQpR"
      },
      "outputs": [],
      "source": [
        "# اختيار الملفات\n",
        "files = [\"stories_ar.json\", \"stories_en.json\"]\n",
        "\n",
        "# إنشاء مجلد لحفظ الملفات الصوتية إذا لم يكن موجوداً\n",
        "if not os.path.exists(\"audio_stories\"):\n",
        "    os.makedirs(\"audio_stories\")\n",
        "\n",
        "def detect_language_from_filename(filename):\n",
        "    if \"_ar\" in filename:\n",
        "        return \"ar\"\n",
        "    elif \"_en\" in filename:\n",
        "        return \"en\"\n",
        "    else:\n",
        "        return \"ar\"\n"
      ]
    },
    {
      "cell_type": "markdown",
      "metadata": {
        "id": "WF6AwGR8ROt_"
      },
      "source": [
        "#**Download stories**"
      ]
    },
    {
      "cell_type": "code",
      "execution_count": 3,
      "metadata": {
        "id": "D4xD25cMQcOU"
      },
      "outputs": [],
      "source": [
        "all_stories = []\n",
        "for file in files:\n",
        "    lang = detect_language_from_filename(file)\n",
        "    with open(file, \"r\", encoding=\"utf-8\") as f:\n",
        "        stories_data = json.load(f)\n",
        "        for story in stories_data:\n",
        "            story[\"lang\"] = lang\n",
        "            all_stories.append(story)\n"
      ]
    },
    {
      "cell_type": "markdown",
      "metadata": {
        "id": "mCwrsiJDRU2Z"
      },
      "source": [
        "#**Sound creation function**"
      ]
    },
    {
      "cell_type": "code",
      "execution_count": 4,
      "metadata": {
        "id": "1vu7frGZQgas"
      },
      "outputs": [],
      "source": [
        "def create_audio_story(story):\n",
        "    lang = story[\"lang\"]\n",
        "\n",
        "    text = f\"\"\"\n",
        "    {story.get('category', '')}\n",
        "    {story.get('title', '')}\n",
        "    {story.get('content', '')}\n",
        "    \"\"\"\n",
        "\n",
        "    if \"lessons\" in story and story[\"lessons\"]:\n",
        "        lessons_text = \", \".join(story[\"lessons\"])\n",
        "        if lang == \"ar\":\n",
        "            text += f\"\\nالدروس المستفادة: {lessons_text}\"\n",
        "        else:\n",
        "            text += f\"\\nLessons: {lessons_text}\"\n",
        "\n",
        "    filename = f\"audio_stories/story_{story['id']}_{story['title'].replace(' ', '_')}_{lang}.mp3\"\n",
        "    tts = gTTS(text=text.strip(), lang=lang, slow=False)\n",
        "    tts.save(filename)\n",
        "    return filename, text.strip()"
      ]
    },
    {
      "cell_type": "markdown",
      "metadata": {
        "id": "qzZoNg0yRZY_"
      },
      "source": [
        "#**search_stories**"
      ]
    },
    {
      "cell_type": "code",
      "execution_count": 10,
      "metadata": {
        "id": "BBQkf0HmQiUc"
      },
      "outputs": [],
      "source": [
        "\n",
        "def search_stories(keyword):\n",
        "    results = []\n",
        "    for story in all_stories:\n",
        "        if (\n",
        "            keyword.lower() in story.get(\"title\", \"\").lower()\n",
        "            or keyword.lower() in story.get(\"content\", \"\").lower()\n",
        "            or keyword.lower() in story.get(\"category\", \"\").lower()\n",
        "        ):\n",
        "            results.append(story)\n",
        "    return results\n",
        "\n"
      ]
    },
    {
      "cell_type": "markdown",
      "metadata": {
        "id": "Ui2FXuFaRcyB"
      },
      "source": [
        "#**Use**"
      ]
    },
    {
      "cell_type": "code",
      "execution_count": 12,
      "metadata": {
        "colab": {
          "base_uri": "https://localhost:8080/",
          "height": 425
        },
        "id": "x1x9sN0oQlBM",
        "outputId": "5134ee6f-df26-4b5c-9f6a-78be64ffffdf"
      },
      "outputs": [
        {
          "name": "stdout",
          "output_type": "stream",
          "text": [
            "⚠️ لم يتم العثور على أي قصة بهذا العنوان\n"
          ]
        }
      ],
      "source": [
        "keyword = input(\"اكتب كلمة من عنوان القصة: \")\n",
        "results = search_stories(keyword)\n",
        "\n",
        "\n",
        "if results:\n",
        "    print(\"\\n📚 القصص المتاحة:\")\n",
        "    for i, story in enumerate(results, 1):\n",
        "        print(f\"{i}. {story['title']} ({story['lang']})\")\n",
        "\n",
        "    choice = int(input(\"\\nاختر رقم القصة: \")) - 1\n",
        "    if 0 <= choice < len(results):\n",
        "        selected_story = results[choice]\n",
        "        print(f\"\\n📖 القصة المختارة: {selected_story['title']}\")\n",
        "        audio_file, text = create_audio_story(selected_story)\n",
        "\n",
        "        print(\"\\n--- نص القصة ---\")\n",
        "        print(text)\n",
        "        print(\"\\n🎤 تشغيل القصة صوتيًا...\")\n",
        "        display(Audio(audio_file, autoplay=True))\n",
        "\n",
        "    else:\n",
        "        print(\"❌ اختيار غير صالح\")\n",
        "else:\n",
        "    print(\"⚠️ لم يتم العثور على أي قصة بهذا العنوان\")"
      ]
    },
    {
      "cell_type": "code",
      "execution_count": null,
      "metadata": {
        "id": "h9-epqTEQoTv"
      },
      "outputs": [],
      "source": []
    }
  ],
  "metadata": {
    "colab": {
      "provenance": []
    },
    "kernelspec": {
      "display_name": "Python 3",
      "name": "python3"
    },
    "language_info": {
      "codemirror_mode": {
        "name": "ipython",
        "version": 3
      },
      "file_extension": ".py",
      "mimetype": "text/x-python",
      "name": "python",
      "nbconvert_exporter": "python",
      "pygments_lexer": "ipython3",
      "version": "3.11.9"
    }
  },
  "nbformat": 4,
  "nbformat_minor": 0
}
